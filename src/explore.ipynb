{
    "cells": [
        {
            "cell_type": "markdown",
            "metadata": {},
            "source": [
                "# BLOQUE 1: Carga de librerías y datos\n"
            ]
        },
        {
            "cell_type": "code",
            "execution_count": 315,
            "metadata": {},
            "outputs": [],
            "source": [
                "import pandas as pd\n",
                "import numpy as np\n",
                "import matplotlib.pyplot as plt\n",
                "import seaborn as sns\n",
                "\n",
                "# Librerías para el modelado\n",
                "from sklearn.model_selection import train_test_split\n",
                "from sklearn.preprocessing import StandardScaler, OneHotEncoder\n",
                "from sklearn.pipeline import Pipeline\n",
                "from sklearn.linear_model import LinearRegression, Ridge, Lasso\n",
                "from sklearn.metrics import mean_absolute_error, mean_squared_error, r2_score\n",
                "from scipy.stats import zscore\n",
                "import joblib"
            ]
        },
        {
            "cell_type": "code",
            "execution_count": 316,
            "metadata": {},
            "outputs": [],
            "source": [
                "# 01. Cargar el dataset\n",
                "url = \"https://raw.githubusercontent.com/4GeeksAcademy/linear-regression-project-tutorial/main/medical_insurance_cost.csv\"\n",
                "df = pd.read_csv(url)\n",
                "\n",
                "# Guardamos una copia local\n",
                "df.to_csv(\"medical_insurance_cost.csv\", index=False)"
            ]
        },
        {
            "cell_type": "code",
            "execution_count": 317,
            "metadata": {},
            "outputs": [
                {
                    "name": "stdout",
                    "output_type": "stream",
                    "text": [
                        "Primeras filas del DataFrame:\n"
                    ]
                },
                {
                    "data": {
                        "text/html": [
                            "<div>\n",
                            "<style scoped>\n",
                            "    .dataframe tbody tr th:only-of-type {\n",
                            "        vertical-align: middle;\n",
                            "    }\n",
                            "\n",
                            "    .dataframe tbody tr th {\n",
                            "        vertical-align: top;\n",
                            "    }\n",
                            "\n",
                            "    .dataframe thead th {\n",
                            "        text-align: right;\n",
                            "    }\n",
                            "</style>\n",
                            "<table border=\"1\" class=\"dataframe\">\n",
                            "  <thead>\n",
                            "    <tr style=\"text-align: right;\">\n",
                            "      <th></th>\n",
                            "      <th>age</th>\n",
                            "      <th>sex</th>\n",
                            "      <th>bmi</th>\n",
                            "      <th>children</th>\n",
                            "      <th>smoker</th>\n",
                            "      <th>region</th>\n",
                            "      <th>charges</th>\n",
                            "    </tr>\n",
                            "  </thead>\n",
                            "  <tbody>\n",
                            "    <tr>\n",
                            "      <th>0</th>\n",
                            "      <td>19</td>\n",
                            "      <td>female</td>\n",
                            "      <td>27.900</td>\n",
                            "      <td>0</td>\n",
                            "      <td>yes</td>\n",
                            "      <td>southwest</td>\n",
                            "      <td>16884.92400</td>\n",
                            "    </tr>\n",
                            "    <tr>\n",
                            "      <th>1</th>\n",
                            "      <td>18</td>\n",
                            "      <td>male</td>\n",
                            "      <td>33.770</td>\n",
                            "      <td>1</td>\n",
                            "      <td>no</td>\n",
                            "      <td>southeast</td>\n",
                            "      <td>1725.55230</td>\n",
                            "    </tr>\n",
                            "    <tr>\n",
                            "      <th>2</th>\n",
                            "      <td>28</td>\n",
                            "      <td>male</td>\n",
                            "      <td>33.000</td>\n",
                            "      <td>3</td>\n",
                            "      <td>no</td>\n",
                            "      <td>southeast</td>\n",
                            "      <td>4449.46200</td>\n",
                            "    </tr>\n",
                            "    <tr>\n",
                            "      <th>3</th>\n",
                            "      <td>33</td>\n",
                            "      <td>male</td>\n",
                            "      <td>22.705</td>\n",
                            "      <td>0</td>\n",
                            "      <td>no</td>\n",
                            "      <td>northwest</td>\n",
                            "      <td>21984.47061</td>\n",
                            "    </tr>\n",
                            "    <tr>\n",
                            "      <th>4</th>\n",
                            "      <td>32</td>\n",
                            "      <td>male</td>\n",
                            "      <td>28.880</td>\n",
                            "      <td>0</td>\n",
                            "      <td>no</td>\n",
                            "      <td>northwest</td>\n",
                            "      <td>3866.85520</td>\n",
                            "    </tr>\n",
                            "  </tbody>\n",
                            "</table>\n",
                            "</div>"
                        ],
                        "text/plain": [
                            "   age     sex     bmi  children smoker     region      charges\n",
                            "0   19  female  27.900         0    yes  southwest  16884.92400\n",
                            "1   18    male  33.770         1     no  southeast   1725.55230\n",
                            "2   28    male  33.000         3     no  southeast   4449.46200\n",
                            "3   33    male  22.705         0     no  northwest  21984.47061\n",
                            "4   32    male  28.880         0     no  northwest   3866.85520"
                        ]
                    },
                    "metadata": {},
                    "output_type": "display_data"
                },
                {
                    "name": "stdout",
                    "output_type": "stream",
                    "text": [
                        "El dataset tiene 1338 filas y 7 columnas.\n"
                    ]
                }
            ],
            "source": [
                "# 02. Confirmar la carga mostrando las primeras filas\n",
                "print(\"Primeras filas del DataFrame:\")\n",
                "display(df.head())\n",
                "\n",
                "# 03. Dimensiones del DataFrame\n",
                "print(f\"El dataset tiene {df.shape[0]} filas y {df.shape[1]} columnas.\")"
            ]
        },
        {
            "cell_type": "code",
            "execution_count": 318,
            "metadata": {},
            "outputs": [
                {
                    "name": "stdout",
                    "output_type": "stream",
                    "text": [
                        "\n",
                        "Información general del DataFrame:\n",
                        "<class 'pandas.core.frame.DataFrame'>\n",
                        "RangeIndex: 1338 entries, 0 to 1337\n",
                        "Data columns (total 7 columns):\n",
                        " #   Column    Non-Null Count  Dtype  \n",
                        "---  ------    --------------  -----  \n",
                        " 0   age       1338 non-null   int64  \n",
                        " 1   sex       1338 non-null   object \n",
                        " 2   bmi       1338 non-null   float64\n",
                        " 3   children  1338 non-null   int64  \n",
                        " 4   smoker    1338 non-null   object \n",
                        " 5   region    1338 non-null   object \n",
                        " 6   charges   1338 non-null   float64\n",
                        "dtypes: float64(2), int64(2), object(3)\n",
                        "memory usage: 73.3+ KB\n"
                    ]
                }
            ],
            "source": [
                "# 04. Información general del DataFrame\n",
                "print(\"\\nInformación general del DataFrame:\")\n",
                "df.info()"
            ]
        },
        {
            "cell_type": "code",
            "execution_count": 319,
            "metadata": {},
            "outputs": [
                {
                    "name": "stdout",
                    "output_type": "stream",
                    "text": [
                        "\n",
                        "Estadísticas descriptivas:\n"
                    ]
                },
                {
                    "data": {
                        "text/html": [
                            "<div>\n",
                            "<style scoped>\n",
                            "    .dataframe tbody tr th:only-of-type {\n",
                            "        vertical-align: middle;\n",
                            "    }\n",
                            "\n",
                            "    .dataframe tbody tr th {\n",
                            "        vertical-align: top;\n",
                            "    }\n",
                            "\n",
                            "    .dataframe thead th {\n",
                            "        text-align: right;\n",
                            "    }\n",
                            "</style>\n",
                            "<table border=\"1\" class=\"dataframe\">\n",
                            "  <thead>\n",
                            "    <tr style=\"text-align: right;\">\n",
                            "      <th></th>\n",
                            "      <th>age</th>\n",
                            "      <th>sex</th>\n",
                            "      <th>bmi</th>\n",
                            "      <th>children</th>\n",
                            "      <th>smoker</th>\n",
                            "      <th>region</th>\n",
                            "      <th>charges</th>\n",
                            "    </tr>\n",
                            "  </thead>\n",
                            "  <tbody>\n",
                            "    <tr>\n",
                            "      <th>count</th>\n",
                            "      <td>1338.000000</td>\n",
                            "      <td>1338</td>\n",
                            "      <td>1338.000000</td>\n",
                            "      <td>1338.000000</td>\n",
                            "      <td>1338</td>\n",
                            "      <td>1338</td>\n",
                            "      <td>1338.000000</td>\n",
                            "    </tr>\n",
                            "    <tr>\n",
                            "      <th>unique</th>\n",
                            "      <td>NaN</td>\n",
                            "      <td>2</td>\n",
                            "      <td>NaN</td>\n",
                            "      <td>NaN</td>\n",
                            "      <td>2</td>\n",
                            "      <td>4</td>\n",
                            "      <td>NaN</td>\n",
                            "    </tr>\n",
                            "    <tr>\n",
                            "      <th>top</th>\n",
                            "      <td>NaN</td>\n",
                            "      <td>male</td>\n",
                            "      <td>NaN</td>\n",
                            "      <td>NaN</td>\n",
                            "      <td>no</td>\n",
                            "      <td>southeast</td>\n",
                            "      <td>NaN</td>\n",
                            "    </tr>\n",
                            "    <tr>\n",
                            "      <th>freq</th>\n",
                            "      <td>NaN</td>\n",
                            "      <td>676</td>\n",
                            "      <td>NaN</td>\n",
                            "      <td>NaN</td>\n",
                            "      <td>1064</td>\n",
                            "      <td>364</td>\n",
                            "      <td>NaN</td>\n",
                            "    </tr>\n",
                            "    <tr>\n",
                            "      <th>mean</th>\n",
                            "      <td>39.207025</td>\n",
                            "      <td>NaN</td>\n",
                            "      <td>30.663397</td>\n",
                            "      <td>1.094918</td>\n",
                            "      <td>NaN</td>\n",
                            "      <td>NaN</td>\n",
                            "      <td>13270.422265</td>\n",
                            "    </tr>\n",
                            "    <tr>\n",
                            "      <th>std</th>\n",
                            "      <td>14.049960</td>\n",
                            "      <td>NaN</td>\n",
                            "      <td>6.098187</td>\n",
                            "      <td>1.205493</td>\n",
                            "      <td>NaN</td>\n",
                            "      <td>NaN</td>\n",
                            "      <td>12110.011237</td>\n",
                            "    </tr>\n",
                            "    <tr>\n",
                            "      <th>min</th>\n",
                            "      <td>18.000000</td>\n",
                            "      <td>NaN</td>\n",
                            "      <td>15.960000</td>\n",
                            "      <td>0.000000</td>\n",
                            "      <td>NaN</td>\n",
                            "      <td>NaN</td>\n",
                            "      <td>1121.873900</td>\n",
                            "    </tr>\n",
                            "    <tr>\n",
                            "      <th>25%</th>\n",
                            "      <td>27.000000</td>\n",
                            "      <td>NaN</td>\n",
                            "      <td>26.296250</td>\n",
                            "      <td>0.000000</td>\n",
                            "      <td>NaN</td>\n",
                            "      <td>NaN</td>\n",
                            "      <td>4740.287150</td>\n",
                            "    </tr>\n",
                            "    <tr>\n",
                            "      <th>50%</th>\n",
                            "      <td>39.000000</td>\n",
                            "      <td>NaN</td>\n",
                            "      <td>30.400000</td>\n",
                            "      <td>1.000000</td>\n",
                            "      <td>NaN</td>\n",
                            "      <td>NaN</td>\n",
                            "      <td>9382.033000</td>\n",
                            "    </tr>\n",
                            "    <tr>\n",
                            "      <th>75%</th>\n",
                            "      <td>51.000000</td>\n",
                            "      <td>NaN</td>\n",
                            "      <td>34.693750</td>\n",
                            "      <td>2.000000</td>\n",
                            "      <td>NaN</td>\n",
                            "      <td>NaN</td>\n",
                            "      <td>16639.912515</td>\n",
                            "    </tr>\n",
                            "    <tr>\n",
                            "      <th>max</th>\n",
                            "      <td>64.000000</td>\n",
                            "      <td>NaN</td>\n",
                            "      <td>53.130000</td>\n",
                            "      <td>5.000000</td>\n",
                            "      <td>NaN</td>\n",
                            "      <td>NaN</td>\n",
                            "      <td>63770.428010</td>\n",
                            "    </tr>\n",
                            "  </tbody>\n",
                            "</table>\n",
                            "</div>"
                        ],
                        "text/plain": [
                            "                age   sex          bmi     children smoker     region  \\\n",
                            "count   1338.000000  1338  1338.000000  1338.000000   1338       1338   \n",
                            "unique          NaN     2          NaN          NaN      2          4   \n",
                            "top             NaN  male          NaN          NaN     no  southeast   \n",
                            "freq            NaN   676          NaN          NaN   1064        364   \n",
                            "mean      39.207025   NaN    30.663397     1.094918    NaN        NaN   \n",
                            "std       14.049960   NaN     6.098187     1.205493    NaN        NaN   \n",
                            "min       18.000000   NaN    15.960000     0.000000    NaN        NaN   \n",
                            "25%       27.000000   NaN    26.296250     0.000000    NaN        NaN   \n",
                            "50%       39.000000   NaN    30.400000     1.000000    NaN        NaN   \n",
                            "75%       51.000000   NaN    34.693750     2.000000    NaN        NaN   \n",
                            "max       64.000000   NaN    53.130000     5.000000    NaN        NaN   \n",
                            "\n",
                            "             charges  \n",
                            "count    1338.000000  \n",
                            "unique           NaN  \n",
                            "top              NaN  \n",
                            "freq             NaN  \n",
                            "mean    13270.422265  \n",
                            "std     12110.011237  \n",
                            "min      1121.873900  \n",
                            "25%      4740.287150  \n",
                            "50%      9382.033000  \n",
                            "75%     16639.912515  \n",
                            "max     63770.428010  "
                        ]
                    },
                    "metadata": {},
                    "output_type": "display_data"
                }
            ],
            "source": [
                "# 05. Estadísticas descriptivas Estadísticas descriptivas (numéricas y categóricas)\n",
                "print(\"\\nEstadísticas descriptivas:\")\n",
                "display(df.describe(include='all'))"
            ]
        },
        {
            "cell_type": "code",
            "execution_count": 320,
            "metadata": {},
            "outputs": [
                {
                    "name": "stdout",
                    "output_type": "stream",
                    "text": [
                        "\n",
                        "Número de valores únicos por columna:\n",
                        "charges     1337\n",
                        "bmi          548\n",
                        "age           47\n",
                        "children       6\n",
                        "region         4\n",
                        "sex            2\n",
                        "smoker         2\n",
                        "dtype: int64\n"
                    ]
                }
            ],
            "source": [
                "# 06. Número de valores únicos por columna\n",
                "print(\"\\nNúmero de valores únicos por columna:\")\n",
                "print(df.nunique().sort_values(ascending=False))"
            ]
        },
        {
            "cell_type": "code",
            "execution_count": 321,
            "metadata": {},
            "outputs": [
                {
                    "name": "stdout",
                    "output_type": "stream",
                    "text": [
                        "\n",
                        "No se encontraron columnas constantes.\n"
                    ]
                }
            ],
            "source": [
                "# 7. Eliminar columnas con un solo valor único (si las hubiera)\n",
                "cols_constantes = df.nunique()[df.nunique() == 1].index\n",
                "if len(cols_constantes) > 0:\n",
                "    df = df.drop(columns=cols_constantes)\n",
                "    print(f\"\\nColumnas eliminadas por tener un solo valor: {list(cols_constantes)}\")\n",
                "else:\n",
                "    print(\"\\nNo se encontraron columnas constantes.\")"
            ]
        },
        {
            "cell_type": "code",
            "execution_count": 322,
            "metadata": {},
            "outputs": [
                {
                    "name": "stdout",
                    "output_type": "stream",
                    "text": [
                        "\n",
                        "Filas duplicadas encontradas: 1\n",
                        "Se eliminaron 1 duplicados. Tamaño final: (1337, 7)\n"
                    ]
                }
            ],
            "source": [
                "# 08. Eliminar filas duplicadas\n",
                "duplicados = df.duplicated().sum()\n",
                "print(f\"\\nFilas duplicadas encontradas: {duplicados}\")\n",
                "if duplicados > 0:\n",
                "    df = df.drop_duplicates()\n",
                "    print(f\"Se eliminaron {duplicados} duplicados. Tamaño final: {df.shape}\")"
            ]
        },
        {
            "cell_type": "code",
            "execution_count": 323,
            "metadata": {},
            "outputs": [
                {
                    "name": "stdout",
                    "output_type": "stream",
                    "text": [
                        "No se encontraron columnas duplicadas.\n"
                    ]
                }
            ],
            "source": [
                "# 09. Comprobar columnas duplicadas (transponiendo)\n",
                "duplicadas = df.T.duplicated(keep=False)\n",
                "if duplicadas.any():\n",
                "    print(\"Columnas duplicadas encontradas:\")\n",
                "    print(df.columns[duplicadas])\n",
                "else:\n",
                "    print(\"No se encontraron columnas duplicadas.\")"
            ]
        },
        {
            "cell_type": "code",
            "execution_count": 324,
            "metadata": {},
            "outputs": [
                {
                    "name": "stdout",
                    "output_type": "stream",
                    "text": [
                        "\n",
                        "No se detectaron valores nulos por columna.\n"
                    ]
                }
            ],
            "source": [
                "# 10. Comprobación de valores nulos\n",
                "faltantes = df.isnull().sum()\n",
                "faltantes = faltantes[faltantes > 0]\n",
                "if not faltantes.empty:\n",
                "    print(\"\\nResumen de valores nulos por columna:\")\n",
                "    print(faltantes)\n",
                "else:\n",
                "    print(\"\\nNo se detectaron valores nulos por columna.\")"
            ]
        },
        {
            "cell_type": "markdown",
            "metadata": {},
            "source": [
                "Me doy cuenta de que el dataset ya viene bastante limpio. No encuentro valores nulos y solo hay una fila duplicada, que elimino fácilmente. Esto me facilita mucho el preprocesado"
            ]
        },
        {
            "cell_type": "markdown",
            "metadata": {},
            "source": [
                "# BLOQUE 2: Análisis visual de variables\n"
            ]
        },
        {
            "cell_type": "code",
            "execution_count": 325,
            "metadata": {},
            "outputs": [
                {
                    "data": {
                        "image/png": "[encoded data removed]",
                        "text/plain": [
                            "<Figure size 1400x800 with 4 Axes>"
                        ]
                    },
                    "metadata": {},
                    "output_type": "display_data"
                }
            ],
            "source": [
                "# 11. Visualización de variables numéricas\n",
                "variables_numericas = ['age', 'bmi', 'children', 'charges']\n",
                "\n",
                "df[variables_numericas].hist(bins=30, figsize=(14, 8), grid=False)\n",
                "plt.suptitle(\"Distribución de variables numéricas\", fontsize=16)\n",
                "plt.tight_layout()\n",
                "plt.show()"
            ]
        },
        {
            "cell_type": "code",
            "execution_count": 326,
            "metadata": {},
            "outputs": [
                {
                    "name": "stderr",
                    "output_type": "stream",
                    "text": [
                        "/tmp/ipykernel_5036/4041900139.py:5: FutureWarning: \n",
                        "\n",
                        "Passing `palette` without assigning `hue` is deprecated and will be removed in v0.14.0. Assign the `x` variable to `hue` and set `legend=False` for the same effect.\n",
                        "\n",
                        "  sns.countplot(x=col, data=df, palette=\"pastel\")\n"
                    ]
                },
                {
                    "data": {
                        "image/png": "[encoded data removed]",
                        "text/plain": [
                            "<Figure size 600x400 with 1 Axes>"
                        ]
                    },
                    "metadata": {},
                    "output_type": "display_data"
                },
                {
                    "name": "stderr",
                    "output_type": "stream",
                    "text": [
                        "/tmp/ipykernel_5036/4041900139.py:5: FutureWarning: \n",
                        "\n",
                        "Passing `palette` without assigning `hue` is deprecated and will be removed in v0.14.0. Assign the `x` variable to `hue` and set `legend=False` for the same effect.\n",
                        "\n",
                        "  sns.countplot(x=col, data=df, palette=\"pastel\")\n"
                    ]
                },
                {
                    "data": {
                        "image/png": "[encoded data removed]",
                        "text/plain": [
                            "<Figure size 600x400 with 1 Axes>"
                        ]
                    },
                    "metadata": {},
                    "output_type": "display_data"
                },
                {
                    "name": "stderr",
                    "output_type": "stream",
                    "text": [
                        "/tmp/ipykernel_5036/4041900139.py:5: FutureWarning: \n",
                        "\n",
                        "Passing `palette` without assigning `hue` is deprecated and will be removed in v0.14.0. Assign the `x` variable to `hue` and set `legend=False` for the same effect.\n",
                        "\n",
                        "  sns.countplot(x=col, data=df, palette=\"pastel\")\n"
                    ]
                },
                {
                    "data": {
                        "image/png": "[encoded data removed]",
                        "text/plain": [
                            "<Figure size 600x400 with 1 Axes>"
                        ]
                    },
                    "metadata": {},
                    "output_type": "display_data"
                }
            ],
            "source": [
                "# 12. Visualización de variables categóricas (hacer antes de codificar)\n",
                "variables_categoricas = ['sex', 'smoker', 'region']\n",
                "for col in variables_categoricas:\n",
                "    plt.figure(figsize=(6, 4))\n",
                "    sns.countplot(x=col, data=df, palette=\"pastel\")\n",
                "    plt.title(f\"Distribución de {col}\")\n",
                "    plt.tight_layout()\n",
                "    plt.show()"
            ]
        },
        {
            "cell_type": "code",
            "execution_count": 327,
            "metadata": {},
            "outputs": [
                {
                    "data": {
                        "image/png": "[encoded data removed]",
                        "text/plain": [
                            "<Figure size 800x500 with 2 Axes>"
                        ]
                    },
                    "metadata": {},
                    "output_type": "display_data"
                }
            ],
            "source": [
                "# 13. Matriz de correlación entre variables numéricas\n",
                "plt.figure(figsize=(8, 5))\n",
                "sns.heatmap(df[variables_numericas].corr(), annot=True, cmap=\"coolwarm\", fmt=\".2f\")\n",
                "plt.title(\"Matriz de correlación numérica\")\n",
                "plt.tight_layout()\n",
                "plt.show()"
            ]
        },
        {
            "cell_type": "markdown",
            "metadata": {},
            "source": [
                "# BLOQUE 3: Transformación y codificación de variables"
            ]
        },
        {
            "cell_type": "code",
            "execution_count": 328,
            "metadata": {},
            "outputs": [
                {
                    "data": {
                        "image/png": "[encoded data removed]",
                        "text/plain": [
                            "<Figure size 700x400 with 1 Axes>"
                        ]
                    },
                    "metadata": {},
                    "output_type": "display_data"
                }
            ],
            "source": [
                "# 14. Transformación logarítmica de charges (para corregir la asimetría)\n",
                "df['charges_log'] = np.log(df['charges'])\n",
                "plt.figure(figsize=(7, 4))\n",
                "sns.histplot(df['charges_log'], bins=30, kde=True, color=\"purple\")\n",
                "plt.title('Distribución logarítmica de charges')\n",
                "plt.tight_layout()\n",
                "plt.show()"
            ]
        },
        {
            "cell_type": "code",
            "execution_count": 329,
            "metadata": {},
            "outputs": [],
            "source": [
                "# 15. Normalización Z-score\n",
                "df['age_zscore'] = zscore(df['age'])\n",
                "df['children_zscore'] = zscore(df['children'])"
            ]
        },
        {
            "cell_type": "code",
            "execution_count": 330,
            "metadata": {},
            "outputs": [
                {
                    "name": "stdout",
                    "output_type": "stream",
                    "text": [
                        "\n",
                        "Valores únicos de 'sex' antes de codificar: ['female' 'male']\n",
                        "Valores únicos de 'smoker' antes de codificar: ['yes' 'no']\n"
                    ]
                }
            ],
            "source": [
                "# 16. Codificación robusta de variables categóricas\n",
                "print(\"\\nValores únicos de 'sex' antes de codificar:\", df['sex'].unique())\n",
                "print(\"Valores únicos de 'smoker' antes de codificar:\", df['smoker'].unique())\n",
                "if df['sex'].dtype == object:\n",
                "    df['sex'] = df['sex'].map({'male': 0, 'female': 1})\n",
                "if df['smoker'].dtype == object:\n",
                "    df['smoker'] = df['smoker'].map({'no': 0, 'yes': 1})"
            ]
        },
        {
            "cell_type": "code",
            "execution_count": 331,
            "metadata": {},
            "outputs": [
                {
                    "name": "stdout",
                    "output_type": "stream",
                    "text": [
                        "\n",
                        "Codificación one-hot aplicada a 'region'.\n",
                        "\n",
                        "Valores únicos de 'sex' después de codificar: [1 0]\n",
                        "Valores únicos de 'smoker' después de codificar: [1 0]\n",
                        "Columnas finales del DataFrame: ['age', 'sex', 'bmi', 'children', 'smoker', 'charges', 'charges_log', 'age_zscore', 'children_zscore', 'region_northwest', 'region_southeast', 'region_southwest']\n"
                    ]
                }
            ],
            "source": [
                "# 17. Codificación One-Hot para 'region' solo si existe\n",
                "if 'region' in df.columns:\n",
                "    df = pd.get_dummies(df, columns=['region'], drop_first=True)\n",
                "    print(\"\\nCodificación one-hot aplicada a 'region'.\")\n",
                "else:\n",
                "    print(\"\\nLa columna 'region' ya no existe. One-hot ya aplicada.\")\n",
                "\n",
                "print(\"\\nValores únicos de 'sex' después de codificar:\", df['sex'].unique())\n",
                "print(\"Valores únicos de 'smoker' después de codificar:\", df['smoker'].unique())\n",
                "print(\"Columnas finales del DataFrame:\", df.columns.tolist())"
            ]
        },
        {
            "cell_type": "markdown",
            "metadata": {},
            "source": [
                "Al aplicar one-hot encoding a region, veo que el DataFrame ahora tiene varias columnas nuevas para las regiones. Entiendo que esto es necesario para que los modelos trabajen bien con datos categóricos. También noto que sex y smoker ya son numéricos y listos para usar en el modelo."
            ]
        },
        {
            "cell_type": "code",
            "execution_count": 332,
            "metadata": {},
            "outputs": [
                {
                    "name": "stdout",
                    "output_type": "stream",
                    "text": [
                        "\n",
                        "No se detectaron valores nulos tras las transformaciones.\n"
                    ]
                }
            ],
            "source": [
                "# 18. Comprobación final de valores nulos\n",
                "faltantes = df.isnull().sum()\n",
                "if faltantes[faltantes > 0].empty:\n",
                "    print(\"\\nNo se detectaron valores nulos tras las transformaciones.\")\n",
                "else:\n",
                "    print(\"\\nValores nulos tras las transformaciones:\")\n",
                "    print(faltantes[faltantes > 0])"
            ]
        },
        {
            "cell_type": "markdown",
            "metadata": {},
            "source": [
                "# BLOQUE 4: Preparación para el modelo y análisis de outliers"
            ]
        },
        {
            "cell_type": "code",
            "execution_count": 333,
            "metadata": {},
            "outputs": [],
            "source": [
                "# 19. Definir variables predictoras (X) y variable objetivo (y)\n",
                "X = df.drop(columns=['charges', 'charges_log'])  \n",
                "y = df['charges_log']"
            ]
        },
        {
            "cell_type": "code",
            "execution_count": 334,
            "metadata": {},
            "outputs": [
                {
                    "name": "stdout",
                    "output_type": "stream",
                    "text": [
                        "Tamaño de train: (1069, 10)\n",
                        "Tamaño de test: (268, 10)\n"
                    ]
                }
            ],
            "source": [
                "# 20. División en train/test\n",
                "X_train, X_test, y_train, y_test = train_test_split(\n",
                "    X, y, test_size=0.2, random_state=42\n",
                ")\n",
                "print(f\"Tamaño de train: {X_train.shape}\")\n",
                "print(f\"Tamaño de test: {X_test.shape}\")"
            ]
        },
        {
            "cell_type": "code",
            "execution_count": 335,
            "metadata": {},
            "outputs": [
                {
                    "data": {
                        "image/png": "[encoded data removed]",
                        "text/plain": [
                            "<Figure size 700x400 with 1 Axes>"
                        ]
                    },
                    "metadata": {},
                    "output_type": "display_data"
                }
            ],
            "source": [
                "# 21. Visualización de outliers en charges_log\n",
                "plt.figure(figsize=(7, 4))\n",
                "sns.boxplot(x=df['charges_log'])\n",
                "plt.title(\"Detección de valores atípicos en charges_log\")\n",
                "plt.tight_layout()\n",
                "plt.show()"
            ]
        },
        {
            "cell_type": "code",
            "execution_count": 336,
            "metadata": {},
            "outputs": [
                {
                    "name": "stdout",
                    "output_type": "stream",
                    "text": [
                        "Total de valores atípicos detectados: 0\n"
                    ]
                }
            ],
            "source": [
                "# 22. Detección de outliers usando IQR\n",
                "Q1 = df['charges_log'].quantile(0.25)\n",
                "Q3 = df['charges_log'].quantile(0.75)\n",
                "IQR = Q3 - Q1\n",
                "limite_inferior = Q1 - 1.5 * IQR\n",
                "limite_superior = Q3 + 1.5 * IQR\n",
                "outliers = df[(df['charges_log'] < limite_inferior) | (df['charges_log'] > limite_superior)]\n",
                "print(f\"Total de valores atípicos detectados: {outliers.shape[0]}\")"
            ]
        },
        {
            "cell_type": "code",
            "execution_count": 337,
            "metadata": {},
            "outputs": [
                {
                    "name": "stdout",
                    "output_type": "stream",
                    "text": [
                        "Outliers en charges original: 139\n"
                    ]
                }
            ],
            "source": [
                "# EXTRA: Detección de outliers en la variable original 'charges'\n",
                "Q1_orig = df['charges'].quantile(0.25)\n",
                "Q3_orig = df['charges'].quantile(0.75)\n",
                "IQR_orig = Q3_orig - Q1_orig\n",
                "limite_inferior_orig = Q1_orig - 1.5 * IQR_orig\n",
                "limite_superior_orig = Q3_orig + 1.5 * IQR_orig\n",
                "outliers_orig = df[(df['charges'] < limite_inferior_orig) | (df['charges'] > limite_superior_orig)]\n",
                "print(f\"Outliers en charges original: {outliers_orig.shape[0]}\")"
            ]
        },
        {
            "cell_type": "markdown",
            "metadata": {},
            "source": [
                "Compruebo que antes de aplicar el logaritmo, la variable original 'charges' tenía varios outliers, pero tras la transformación desaparecen. Esto demuestra la utilidad de la transformación logarítmica."
            ]
        },
        {
            "cell_type": "markdown",
            "metadata": {},
            "source": [
                "# BLOQUE 5: Entrenamiento y evaluación de modelos"
            ]
        },
        {
            "cell_type": "code",
            "execution_count": 338,
            "metadata": {},
            "outputs": [],
            "source": [
                "# 23. Definir pipeline de regresión lineal\n",
                "pipeline = Pipeline([\n",
                "    (\"scaler\", StandardScaler()),\n",
                "    (\"modelo\", LinearRegression())\n",
                "])"
            ]
        },
        {
            "cell_type": "code",
            "execution_count": 339,
            "metadata": {},
            "outputs": [
                {
                    "data": {
                        "text/html": [
                            "<style>#sk-container-id-2 {\n",
                            "  /* Definition of color scheme common for light and dark mode */\n",
                            "  --sklearn-color-text: #000;\n",
                            "  --sklearn-color-text-muted: #666;\n",
                            "  --sklearn-color-line: gray;\n",
                            "  /* Definition of color scheme for unfitted estimators */\n",
                            "  --sklearn-color-unfitted-level-0: #fff5e6;\n",
                            "  --sklearn-color-unfitted-level-1: #f6e4d2;\n",
                            "  --sklearn-color-unfitted-level-2: #ffe0b3;\n",
                            "  --sklearn-color-unfitted-level-3: chocolate;\n",
                            "  /* Definition of color scheme for fitted estimators */\n",
                            "  --sklearn-color-fitted-level-0: #f0f8ff;\n",
                            "  --sklearn-color-fitted-level-1: #d4ebff;\n",
                            "  --sklearn-color-fitted-level-2: #b3dbfd;\n",
                            "  --sklearn-color-fitted-level-3: cornflowerblue;\n",
                            "\n",
                            "  /* Specific color for light theme */\n",
                            "  --sklearn-color-text-on-default-background: var(--sg-text-color, var(--theme-code-foreground, var(--jp-content-font-color1, black)));\n",
                            "  --sklearn-color-background: var(--sg-background-color, var(--theme-background, var(--jp-layout-color0, white)));\n",
                            "  --sklearn-color-border-box: var(--sg-text-color, var(--theme-code-foreground, var(--jp-content-font-color1, black)));\n",
                            "  --sklearn-color-icon: #696969;\n",
                            "\n",
                            "  @media (prefers-color-scheme: dark) {\n",
                            "    /* Redefinition of color scheme for dark theme */\n",
                            "    --sklearn-color-text-on-default-background: var(--sg-text-color, var(--theme-code-foreground, var(--jp-content-font-color1, white)));\n",
                            "    --sklearn-color-background: var(--sg-background-color, var(--theme-background, var(--jp-layout-color0, #111)));\n",
                            "    --sklearn-color-border-box: var(--sg-text-color, var(--theme-code-foreground, var(--jp-content-font-color1, white)));\n",
                            "    --sklearn-color-icon: #878787;\n",
                            "  }\n",
                            "}\n",
                            "\n",
                            "#sk-container-id-2 {\n",
                            "  color: var(--sklearn-color-text);\n",
                            "}\n",
                            "\n",
                            "#sk-container-id-2 pre {\n",
                            "  padding: 0;\n",
                            "}\n",
                            "\n",
                            "#sk-container-id-2 input.sk-hidden--visually {\n",
                            "  border: 0;\n",
                            "  clip: rect(1px 1px 1px 1px);\n",
                            "  clip: rect(1px, 1px, 1px, 1px);\n",
                            "  height: 1px;\n",
                            "  margin: -1px;\n",
                            "  overflow: hidden;\n",
                            "  padding: 0;\n",
                            "  position: absolute;\n",
                            "  width: 1px;\n",
                            "}\n",
                            "\n",
                            "#sk-container-id-2 div.sk-dashed-wrapped {\n",
                            "  border: 1px dashed var(--sklearn-color-line);\n",
                            "  margin: 0 0.4em 0.5em 0.4em;\n",
                            "  box-sizing: border-box;\n",
                            "  padding-bottom: 0.4em;\n",
                            "  background-color: var(--sklearn-color-background);\n",
                            "}\n",
                            "\n",
                            "#sk-container-id-2 div.sk-container {\n",
                            "  /* jupyter's `normalize.less` sets `[hidden] { display: none; }`\n",
                            "     but bootstrap.min.css set `[hidden] { display: none !important; }`\n",
                            "     so we also need the `!important` here to be able to override the\n",
                            "     default hidden behavior on the sphinx rendered scikit-learn.org.\n",
                            "     See: https://github.com/scikit-learn/scikit-learn/issues/21755 */\n",
                            "  display: inline-block !important;\n",
                            "  position: relative;\n",
                            "}\n",
                            "\n",
                            "#sk-container-id-2 div.sk-text-repr-fallback {\n",
                            "  display: none;\n",
                            "}\n",
                            "\n",
                            "div.sk-parallel-item,\n",
                            "div.sk-serial,\n",
                            "div.sk-item {\n",
                            "  /* draw centered vertical line to link estimators */\n",
                            "  background-image: linear-gradient(var(--sklearn-color-text-on-default-background), var(--sklearn-color-text-on-default-background));\n",
                            "  background-size: 2px 100%;\n",
                            "  background-repeat: no-repeat;\n",
                            "  background-position: center center;\n",
                            "}\n",
                            "\n",
                            "/* Parallel-specific style estimator block */\n",
                            "\n",
                            "#sk-container-id-2 div.sk-parallel-item::after {\n",
                            "  content: \"\";\n",
                            "  width: 100%;\n",
                            "  border-bottom: 2px solid var(--sklearn-color-text-on-default-background);\n",
                            "  flex-grow: 1;\n",
                            "}\n",
                            "\n",
                            "#sk-container-id-2 div.sk-parallel {\n",
                            "  display: flex;\n",
                            "  align-items: stretch;\n",
                            "  justify-content: center;\n",
                            "  background-color: var(--sklearn-color-background);\n",
                            "  position: relative;\n",
                            "}\n",
                            "\n",
                            "#sk-container-id-2 div.sk-parallel-item {\n",
                            "  display: flex;\n",
                            "  flex-direction: column;\n",
                            "}\n",
                            "\n",
                            "#sk-container-id-2 div.sk-parallel-item:first-child::after {\n",
                            "  align-self: flex-end;\n",
                            "  width: 50%;\n",
                            "}\n",
                            "\n",
                            "#sk-container-id-2 div.sk-parallel-item:last-child::after {\n",
                            "  align-self: flex-start;\n",
                            "  width: 50%;\n",
                            "}\n",
                            "\n",
                            "#sk-container-id-2 div.sk-parallel-item:only-child::after {\n",
                            "  width: 0;\n",
                            "}\n",
                            "\n",
                            "/* Serial-specific style estimator block */\n",
                            "\n",
                            "#sk-container-id-2 div.sk-serial {\n",
                            "  display: flex;\n",
                            "  flex-direction: column;\n",
                            "  align-items: center;\n",
                            "  background-color: var(--sklearn-color-background);\n",
                            "  padding-right: 1em;\n",
                            "  padding-left: 1em;\n",
                            "}\n",
                            "\n",
                            "\n",
                            "/* Toggleable style: style used for estimator/Pipeline/ColumnTransformer box that is\n",
                            "clickable and can be expanded/collapsed.\n",
                            "- Pipeline and ColumnTransformer use this feature and define the default style\n",
                            "- Estimators will overwrite some part of the style using the `sk-estimator` class\n",
                            "*/\n",
                            "\n",
                            "/* Pipeline and ColumnTransformer style (default) */\n",
                            "\n",
                            "#sk-container-id-2 div.sk-toggleable {\n",
                            "  /* Default theme specific background. It is overwritten whether we have a\n",
                            "  specific estimator or a Pipeline/ColumnTransformer */\n",
                            "  background-color: var(--sklearn-color-background);\n",
                            "}\n",
                            "\n",
                            "/* Toggleable label */\n",
                            "#sk-container-id-2 label.sk-toggleable__label {\n",
                            "  cursor: pointer;\n",
                            "  display: flex;\n",
                            "  width: 100%;\n",
                            "  margin-bottom: 0;\n",
                            "  padding: 0.5em;\n",
                            "  box-sizing: border-box;\n",
                            "  text-align: center;\n",
                            "  align-items: start;\n",
                            "  justify-content: space-between;\n",
                            "  gap: 0.5em;\n",
                            "}\n",
                            "\n",
                            "#sk-container-id-2 label.sk-toggleable__label .caption {\n",
                            "  font-size: 0.6rem;\n",
                            "  font-weight: lighter;\n",
                            "  color: var(--sklearn-color-text-muted);\n",
                            "}\n",
                            "\n",
                            "#sk-container-id-2 label.sk-toggleable__label-arrow:before {\n",
                            "  /* Arrow on the left of the label */\n",
                            "  content: \"▸\";\n",
                            "  float: left;\n",
                            "  margin-right: 0.25em;\n",
                            "  color: var(--sklearn-color-icon);\n",
                            "}\n",
                            "\n",
                            "#sk-container-id-2 label.sk-toggleable__label-arrow:hover:before {\n",
                            "  color: var(--sklearn-color-text);\n",
                            "}\n",
                            "\n",
                            "/* Toggleable content - dropdown */\n",
                            "\n",
                            "#sk-container-id-2 div.sk-toggleable__content {\n",
                            "  display: none;\n",
                            "  text-align: left;\n",
                            "  /* unfitted */\n",
                            "  background-color: var(--sklearn-color-unfitted-level-0);\n",
                            "}\n",
                            "\n",
                            "#sk-container-id-2 div.sk-toggleable__content.fitted {\n",
                            "  /* fitted */\n",
                            "  background-color: var(--sklearn-color-fitted-level-0);\n",
                            "}\n",
                            "\n",
                            "#sk-container-id-2 div.sk-toggleable__content pre {\n",
                            "  margin: 0.2em;\n",
                            "  border-radius: 0.25em;\n",
                            "  color: var(--sklearn-color-text);\n",
                            "  /* unfitted */\n",
                            "  background-color: var(--sklearn-color-unfitted-level-0);\n",
                            "}\n",
                            "\n",
                            "#sk-container-id-2 div.sk-toggleable__content.fitted pre {\n",
                            "  /* unfitted */\n",
                            "  background-color: var(--sklearn-color-fitted-level-0);\n",
                            "}\n",
                            "\n",
                            "#sk-container-id-2 input.sk-toggleable__control:checked~div.sk-toggleable__content {\n",
                            "  /* Expand drop-down */\n",
                            "  display: block;\n",
                            "  width: 100%;\n",
                            "  overflow: visible;\n",
                            "}\n",
                            "\n",
                            "#sk-container-id-2 input.sk-toggleable__control:checked~label.sk-toggleable__label-arrow:before {\n",
                            "  content: \"▾\";\n",
                            "}\n",
                            "\n",
                            "/* Pipeline/ColumnTransformer-specific style */\n",
                            "\n",
                            "#sk-container-id-2 div.sk-label input.sk-toggleable__control:checked~label.sk-toggleable__label {\n",
                            "  color: var(--sklearn-color-text);\n",
                            "  background-color: var(--sklearn-color-unfitted-level-2);\n",
                            "}\n",
                            "\n",
                            "#sk-container-id-2 div.sk-label.fitted input.sk-toggleable__control:checked~label.sk-toggleable__label {\n",
                            "  background-color: var(--sklearn-color-fitted-level-2);\n",
                            "}\n",
                            "\n",
                            "/* Estimator-specific style */\n",
                            "\n",
                            "/* Colorize estimator box */\n",
                            "#sk-container-id-2 div.sk-estimator input.sk-toggleable__control:checked~label.sk-toggleable__label {\n",
                            "  /* unfitted */\n",
                            "  background-color: var(--sklearn-color-unfitted-level-2);\n",
                            "}\n",
                            "\n",
                            "#sk-container-id-2 div.sk-estimator.fitted input.sk-toggleable__control:checked~label.sk-toggleable__label {\n",
                            "  /* fitted */\n",
                            "  background-color: var(--sklearn-color-fitted-level-2);\n",
                            "}\n",
                            "\n",
                            "#sk-container-id-2 div.sk-label label.sk-toggleable__label,\n",
                            "#sk-container-id-2 div.sk-label label {\n",
                            "  /* The background is the default theme color */\n",
                            "  color: var(--sklearn-color-text-on-default-background);\n",
                            "}\n",
                            "\n",
                            "/* On hover, darken the color of the background */\n",
                            "#sk-container-id-2 div.sk-label:hover label.sk-toggleable__label {\n",
                            "  color: var(--sklearn-color-text);\n",
                            "  background-color: var(--sklearn-color-unfitted-level-2);\n",
                            "}\n",
                            "\n",
                            "/* Label box, darken color on hover, fitted */\n",
                            "#sk-container-id-2 div.sk-label.fitted:hover label.sk-toggleable__label.fitted {\n",
                            "  color: var(--sklearn-color-text);\n",
                            "  background-color: var(--sklearn-color-fitted-level-2);\n",
                            "}\n",
                            "\n",
                            "/* Estimator label */\n",
                            "\n",
                            "#sk-container-id-2 div.sk-label label {\n",
                            "  font-family: monospace;\n",
                            "  font-weight: bold;\n",
                            "  display: inline-block;\n",
                            "  line-height: 1.2em;\n",
                            "}\n",
                            "\n",
                            "#sk-container-id-2 div.sk-label-container {\n",
                            "  text-align: center;\n",
                            "}\n",
                            "\n",
                            "/* Estimator-specific */\n",
                            "#sk-container-id-2 div.sk-estimator {\n",
                            "  font-family: monospace;\n",
                            "  border: 1px dotted var(--sklearn-color-border-box);\n",
                            "  border-radius: 0.25em;\n",
                            "  box-sizing: border-box;\n",
                            "  margin-bottom: 0.5em;\n",
                            "  /* unfitted */\n",
                            "  background-color: var(--sklearn-color-unfitted-level-0);\n",
                            "}\n",
                            "\n",
                            "#sk-container-id-2 div.sk-estimator.fitted {\n",
                            "  /* fitted */\n",
                            "  background-color: var(--sklearn-color-fitted-level-0);\n",
                            "}\n",
                            "\n",
                            "/* on hover */\n",
                            "#sk-container-id-2 div.sk-estimator:hover {\n",
                            "  /* unfitted */\n",
                            "  background-color: var(--sklearn-color-unfitted-level-2);\n",
                            "}\n",
                            "\n",
                            "#sk-container-id-2 div.sk-estimator.fitted:hover {\n",
                            "  /* fitted */\n",
                            "  background-color: var(--sklearn-color-fitted-level-2);\n",
                            "}\n",
                            "\n",
                            "/* Specification for estimator info (e.g. \"i\" and \"?\") */\n",
                            "\n",
                            "/* Common style for \"i\" and \"?\" */\n",
                            "\n",
                            ".sk-estimator-doc-link,\n",
                            "a:link.sk-estimator-doc-link,\n",
                            "a:visited.sk-estimator-doc-link {\n",
                            "  float: right;\n",
                            "  font-size: smaller;\n",
                            "  line-height: 1em;\n",
                            "  font-family: monospace;\n",
                            "  background-color: var(--sklearn-color-background);\n",
                            "  border-radius: 1em;\n",
                            "  height: 1em;\n",
                            "  width: 1em;\n",
                            "  text-decoration: none !important;\n",
                            "  margin-left: 0.5em;\n",
                            "  text-align: center;\n",
                            "  /* unfitted */\n",
                            "  border: var(--sklearn-color-unfitted-level-1) 1pt solid;\n",
                            "  color: var(--sklearn-color-unfitted-level-1);\n",
                            "}\n",
                            "\n",
                            ".sk-estimator-doc-link.fitted,\n",
                            "a:link.sk-estimator-doc-link.fitted,\n",
                            "a:visited.sk-estimator-doc-link.fitted {\n",
                            "  /* fitted */\n",
                            "  border: var(--sklearn-color-fitted-level-1) 1pt solid;\n",
                            "  color: var(--sklearn-color-fitted-level-1);\n",
                            "}\n",
                            "\n",
                            "/* On hover */\n",
                            "div.sk-estimator:hover .sk-estimator-doc-link:hover,\n",
                            ".sk-estimator-doc-link:hover,\n",
                            "div.sk-label-container:hover .sk-estimator-doc-link:hover,\n",
                            ".sk-estimator-doc-link:hover {\n",
                            "  /* unfitted */\n",
                            "  background-color: var(--sklearn-color-unfitted-level-3);\n",
                            "  color: var(--sklearn-color-background);\n",
                            "  text-decoration: none;\n",
                            "}\n",
                            "\n",
                            "div.sk-estimator.fitted:hover .sk-estimator-doc-link.fitted:hover,\n",
                            ".sk-estimator-doc-link.fitted:hover,\n",
                            "div.sk-label-container:hover .sk-estimator-doc-link.fitted:hover,\n",
                            ".sk-estimator-doc-link.fitted:hover {\n",
                            "  /* fitted */\n",
                            "  background-color: var(--sklearn-color-fitted-level-3);\n",
                            "  color: var(--sklearn-color-background);\n",
                            "  text-decoration: none;\n",
                            "}\n",
                            "\n",
                            "/* Span, style for the box shown on hovering the info icon */\n",
                            ".sk-estimator-doc-link span {\n",
                            "  display: none;\n",
                            "  z-index: 9999;\n",
                            "  position: relative;\n",
                            "  font-weight: normal;\n",
                            "  right: .2ex;\n",
                            "  padding: .5ex;\n",
                            "  margin: .5ex;\n",
                            "  width: min-content;\n",
                            "  min-width: 20ex;\n",
                            "  max-width: 50ex;\n",
                            "  color: var(--sklearn-color-text);\n",
                            "  box-shadow: 2pt 2pt 4pt #999;\n",
                            "  /* unfitted */\n",
                            "  background: var(--sklearn-color-unfitted-level-0);\n",
                            "  border: .5pt solid var(--sklearn-color-unfitted-level-3);\n",
                            "}\n",
                            "\n",
                            ".sk-estimator-doc-link.fitted span {\n",
                            "  /* fitted */\n",
                            "  background: var(--sklearn-color-fitted-level-0);\n",
                            "  border: var(--sklearn-color-fitted-level-3);\n",
                            "}\n",
                            "\n",
                            ".sk-estimator-doc-link:hover span {\n",
                            "  display: block;\n",
                            "}\n",
                            "\n",
                            "/* \"?\"-specific style due to the `<a>` HTML tag */\n",
                            "\n",
                            "#sk-container-id-2 a.estimator_doc_link {\n",
                            "  float: right;\n",
                            "  font-size: 1rem;\n",
                            "  line-height: 1em;\n",
                            "  font-family: monospace;\n",
                            "  background-color: var(--sklearn-color-background);\n",
                            "  border-radius: 1rem;\n",
                            "  height: 1rem;\n",
                            "  width: 1rem;\n",
                            "  text-decoration: none;\n",
                            "  /* unfitted */\n",
                            "  color: var(--sklearn-color-unfitted-level-1);\n",
                            "  border: var(--sklearn-color-unfitted-level-1) 1pt solid;\n",
                            "}\n",
                            "\n",
                            "#sk-container-id-2 a.estimator_doc_link.fitted {\n",
                            "  /* fitted */\n",
                            "  border: var(--sklearn-color-fitted-level-1) 1pt solid;\n",
                            "  color: var(--sklearn-color-fitted-level-1);\n",
                            "}\n",
                            "\n",
                            "/* On hover */\n",
                            "#sk-container-id-2 a.estimator_doc_link:hover {\n",
                            "  /* unfitted */\n",
                            "  background-color: var(--sklearn-color-unfitted-level-3);\n",
                            "  color: var(--sklearn-color-background);\n",
                            "  text-decoration: none;\n",
                            "}\n",
                            "\n",
                            "#sk-container-id-2 a.estimator_doc_link.fitted:hover {\n",
                            "  /* fitted */\n",
                            "  background-color: var(--sklearn-color-fitted-level-3);\n",
                            "}\n",
                            "\n",
                            ".estimator-table summary {\n",
                            "    padding: .5rem;\n",
                            "    font-family: monospace;\n",
                            "    cursor: pointer;\n",
                            "}\n",
                            "\n",
                            ".estimator-table details[open] {\n",
                            "    padding-left: 0.1rem;\n",
                            "    padding-right: 0.1rem;\n",
                            "    padding-bottom: 0.3rem;\n",
                            "}\n",
                            "\n",
                            ".estimator-table .parameters-table {\n",
                            "    margin-left: auto !important;\n",
                            "    margin-right: auto !important;\n",
                            "}\n",
                            "\n",
                            ".estimator-table .parameters-table tr:nth-child(odd) {\n",
                            "    background-color: #fff;\n",
                            "}\n",
                            "\n",
                            ".estimator-table .parameters-table tr:nth-child(even) {\n",
                            "    background-color: #f6f6f6;\n",
                            "}\n",
                            "\n",
                            ".estimator-table .parameters-table tr:hover {\n",
                            "    background-color: #e0e0e0;\n",
                            "}\n",
                            "\n",
                            ".estimator-table table td {\n",
                            "    border: 1px solid rgba(106, 105, 104, 0.232);\n",
                            "}\n",
                            "\n",
                            ".user-set td {\n",
                            "    color:rgb(255, 94, 0);\n",
                            "    text-align: left;\n",
                            "}\n",
                            "\n",
                            ".user-set td.value pre {\n",
                            "    color:rgb(255, 94, 0) !important;\n",
                            "    background-color: transparent !important;\n",
                            "}\n",
                            "\n",
                            ".default td {\n",
                            "    color: black;\n",
                            "    text-align: left;\n",
                            "}\n",
                            "\n",
                            ".user-set td i,\n",
                            ".default td i {\n",
                            "    color: black;\n",
                            "}\n",
                            "\n",
                            ".copy-paste-icon {\n",
                            "    background-image: url(data:image/svg+xml;base64,PHN2ZyB4bWxucz0iaHR0cDovL3d3dy53My5vcmcvMjAwMC9zdmciIHZpZXdCb3g9IjAgMCA0NDggNTEyIj48IS0tIUZvbnQgQXdlc29tZSBGcmVlIDYuNy4yIGJ5IEBmb250YXdlc29tZSAtIGh0dHBzOi8vZm9udGF3ZXNvbWUuY29tIExpY2Vuc2UgLSBodHRwczovL2ZvbnRhd2Vzb21lLmNvbS9saWNlbnNlL2ZyZWUgQ29weXJpZ2h0IDIwMjUgRm9udGljb25zLCBJbmMuLS0+PHBhdGggZD0iTTIwOCAwTDMzMi4xIDBjMTIuNyAwIDI0LjkgNS4xIDMzLjkgMTQuMWw2Ny45IDY3LjljOSA5IDE0LjEgMjEuMiAxNC4xIDMzLjlMNDQ4IDMzNmMwIDI2LjUtMjEuNSA0OC00OCA0OGwtMTkyIDBjLTI2LjUgMC00OC0yMS41LTQ4LTQ4bDAtMjg4YzAtMjYuNSAyMS41LTQ4IDQ4LTQ4ek00OCAxMjhsODAgMCAwIDY0LTY0IDAgMCAyNTYgMTkyIDAgMC0zMiA2NCAwIDAgNDhjMCAyNi41LTIxLjUgNDgtNDggNDhMNDggNTEyYy0yNi41IDAtNDgtMjEuNS00OC00OEwwIDE3NmMwLTI2LjUgMjEuNS00OCA0OC00OHoiLz48L3N2Zz4=);\n",
                            "    background-repeat: no-repeat;\n",
                            "    background-size: 14px 14px;\n",
                            "    background-position: 0;\n",
                            "    display: inline-block;\n",
                            "    width: 14px;\n",
                            "    height: 14px;\n",
                            "    cursor: pointer;\n",
                            "}\n",
                            "</style><body><div id=\"sk-container-id-2\" class=\"sk-top-container\"><div class=\"sk-text-repr-fallback\"><pre>Pipeline(steps=[(&#x27;scaler&#x27;, StandardScaler()), (&#x27;modelo&#x27;, LinearRegression())])</pre><b>In a Jupyter environment, please rerun this cell to show the HTML representation or trust the notebook. <br />On GitHub, the HTML representation is unable to render, please try loading this page with nbviewer.org.</b></div><div class=\"sk-container\" hidden><div class=\"sk-item sk-dashed-wrapped\"><div class=\"sk-label-container\"><div class=\"sk-label fitted sk-toggleable\"><input class=\"sk-toggleable__control sk-hidden--visually\" id=\"sk-estimator-id-4\" type=\"checkbox\" ><label for=\"sk-estimator-id-4\" class=\"sk-toggleable__label fitted sk-toggleable__label-arrow\"><div><div>Pipeline</div></div><div><a class=\"sk-estimator-doc-link fitted\" rel=\"noreferrer\" target=\"_blank\" href=\"https://scikit-learn.org/1.7/modules/generated/sklearn.pipeline.Pipeline.html\">?<span>Documentation for Pipeline</span></a><span class=\"sk-estimator-doc-link fitted\">i<span>Fitted</span></span></div></label><div class=\"sk-toggleable__content fitted\" data-param-prefix=\"\">\n",
                            "        <div class=\"estimator-table\">\n",
                            "            <details>\n",
                            "                <summary>Parameters</summary>\n",
                            "                <table class=\"parameters-table\">\n",
                            "                  <tbody>\n",
                            "                    \n",
                            "        <tr class=\"user-set\">\n",
                            "            <td><i class=\"copy-paste-icon\"\n",
                            "                 onclick=\"copyToClipboard('steps',\n",
                            "                          this.parentElement.nextElementSibling)\"\n",
                            "            ></i></td>\n",
                            "            <td class=\"param\">steps&nbsp;</td>\n",
                            "            <td class=\"value\">[(&#x27;scaler&#x27;, ...), (&#x27;modelo&#x27;, ...)]</td>\n",
                            "        </tr>\n",
                            "    \n",
                            "\n",
                            "        <tr class=\"default\">\n",
                            "            <td><i class=\"copy-paste-icon\"\n",
                            "                 onclick=\"copyToClipboard('transform_input',\n",
                            "                          this.parentElement.nextElementSibling)\"\n",
                            "            ></i></td>\n",
                            "            <td class=\"param\">transform_input&nbsp;</td>\n",
                            "            <td class=\"value\">None</td>\n",
                            "        </tr>\n",
                            "    \n",
                            "\n",
                            "        <tr class=\"default\">\n",
                            "            <td><i class=\"copy-paste-icon\"\n",
                            "                 onclick=\"copyToClipboard('memory',\n",
                            "                          this.parentElement.nextElementSibling)\"\n",
                            "            ></i></td>\n",
                            "            <td class=\"param\">memory&nbsp;</td>\n",
                            "            <td class=\"value\">None</td>\n",
                            "        </tr>\n",
                            "    \n",
                            "\n",
                            "        <tr class=\"default\">\n",
                            "            <td><i class=\"copy-paste-icon\"\n",
                            "                 onclick=\"copyToClipboard('verbose',\n",
                            "                          this.parentElement.nextElementSibling)\"\n",
                            "            ></i></td>\n",
                            "            <td class=\"param\">verbose&nbsp;</td>\n",
                            "            <td class=\"value\">False</td>\n",
                            "        </tr>\n",
                            "    \n",
                            "                  </tbody>\n",
                            "                </table>\n",
                            "            </details>\n",
                            "        </div>\n",
                            "    </div></div></div><div class=\"sk-serial\"><div class=\"sk-item\"><div class=\"sk-estimator fitted sk-toggleable\"><input class=\"sk-toggleable__control sk-hidden--visually\" id=\"sk-estimator-id-5\" type=\"checkbox\" ><label for=\"sk-estimator-id-5\" class=\"sk-toggleable__label fitted sk-toggleable__label-arrow\"><div><div>StandardScaler</div></div><div><a class=\"sk-estimator-doc-link fitted\" rel=\"noreferrer\" target=\"_blank\" href=\"https://scikit-learn.org/1.7/modules/generated/sklearn.preprocessing.StandardScaler.html\">?<span>Documentation for StandardScaler</span></a></div></label><div class=\"sk-toggleable__content fitted\" data-param-prefix=\"scaler__\">\n",
                            "        <div class=\"estimator-table\">\n",
                            "            <details>\n",
                            "                <summary>Parameters</summary>\n",
                            "                <table class=\"parameters-table\">\n",
                            "                  <tbody>\n",
                            "                    \n",
                            "        <tr class=\"default\">\n",
                            "            <td><i class=\"copy-paste-icon\"\n",
                            "                 onclick=\"copyToClipboard('copy',\n",
                            "                          this.parentElement.nextElementSibling)\"\n",
                            "            ></i></td>\n",
                            "            <td class=\"param\">copy&nbsp;</td>\n",
                            "            <td class=\"value\">True</td>\n",
                            "        </tr>\n",
                            "    \n",
                            "\n",
                            "        <tr class=\"default\">\n",
                            "            <td><i class=\"copy-paste-icon\"\n",
                            "                 onclick=\"copyToClipboard('with_mean',\n",
                            "                          this.parentElement.nextElementSibling)\"\n",
                            "            ></i></td>\n",
                            "            <td class=\"param\">with_mean&nbsp;</td>\n",
                            "            <td class=\"value\">True</td>\n",
                            "        </tr>\n",
                            "    \n",
                            "\n",
                            "        <tr class=\"default\">\n",
                            "            <td><i class=\"copy-paste-icon\"\n",
                            "                 onclick=\"copyToClipboard('with_std',\n",
                            "                          this.parentElement.nextElementSibling)\"\n",
                            "            ></i></td>\n",
                            "            <td class=\"param\">with_std&nbsp;</td>\n",
                            "            <td class=\"value\">True</td>\n",
                            "        </tr>\n",
                            "    \n",
                            "                  </tbody>\n",
                            "                </table>\n",
                            "            </details>\n",
                            "        </div>\n",
                            "    </div></div></div><div class=\"sk-item\"><div class=\"sk-estimator fitted sk-toggleable\"><input class=\"sk-toggleable__control sk-hidden--visually\" id=\"sk-estimator-id-6\" type=\"checkbox\" ><label for=\"sk-estimator-id-6\" class=\"sk-toggleable__label fitted sk-toggleable__label-arrow\"><div><div>LinearRegression</div></div><div><a class=\"sk-estimator-doc-link fitted\" rel=\"noreferrer\" target=\"_blank\" href=\"https://scikit-learn.org/1.7/modules/generated/sklearn.linear_model.LinearRegression.html\">?<span>Documentation for LinearRegression</span></a></div></label><div class=\"sk-toggleable__content fitted\" data-param-prefix=\"modelo__\">\n",
                            "        <div class=\"estimator-table\">\n",
                            "            <details>\n",
                            "                <summary>Parameters</summary>\n",
                            "                <table class=\"parameters-table\">\n",
                            "                  <tbody>\n",
                            "                    \n",
                            "        <tr class=\"default\">\n",
                            "            <td><i class=\"copy-paste-icon\"\n",
                            "                 onclick=\"copyToClipboard('fit_intercept',\n",
                            "                          this.parentElement.nextElementSibling)\"\n",
                            "            ></i></td>\n",
                            "            <td class=\"param\">fit_intercept&nbsp;</td>\n",
                            "            <td class=\"value\">True</td>\n",
                            "        </tr>\n",
                            "    \n",
                            "\n",
                            "        <tr class=\"default\">\n",
                            "            <td><i class=\"copy-paste-icon\"\n",
                            "                 onclick=\"copyToClipboard('copy_X',\n",
                            "                          this.parentElement.nextElementSibling)\"\n",
                            "            ></i></td>\n",
                            "            <td class=\"param\">copy_X&nbsp;</td>\n",
                            "            <td class=\"value\">True</td>\n",
                            "        </tr>\n",
                            "    \n",
                            "\n",
                            "        <tr class=\"default\">\n",
                            "            <td><i class=\"copy-paste-icon\"\n",
                            "                 onclick=\"copyToClipboard('tol',\n",
                            "                          this.parentElement.nextElementSibling)\"\n",
                            "            ></i></td>\n",
                            "            <td class=\"param\">tol&nbsp;</td>\n",
                            "            <td class=\"value\">1e-06</td>\n",
                            "        </tr>\n",
                            "    \n",
                            "\n",
                            "        <tr class=\"default\">\n",
                            "            <td><i class=\"copy-paste-icon\"\n",
                            "                 onclick=\"copyToClipboard('n_jobs',\n",
                            "                          this.parentElement.nextElementSibling)\"\n",
                            "            ></i></td>\n",
                            "            <td class=\"param\">n_jobs&nbsp;</td>\n",
                            "            <td class=\"value\">None</td>\n",
                            "        </tr>\n",
                            "    \n",
                            "\n",
                            "        <tr class=\"default\">\n",
                            "            <td><i class=\"copy-paste-icon\"\n",
                            "                 onclick=\"copyToClipboard('positive',\n",
                            "                          this.parentElement.nextElementSibling)\"\n",
                            "            ></i></td>\n",
                            "            <td class=\"param\">positive&nbsp;</td>\n",
                            "            <td class=\"value\">False</td>\n",
                            "        </tr>\n",
                            "    \n",
                            "                  </tbody>\n",
                            "                </table>\n",
                            "            </details>\n",
                            "        </div>\n",
                            "    </div></div></div></div></div></div></div><script>function copyToClipboard(text, element) {\n",
                            "    // Get the parameter prefix from the closest toggleable content\n",
                            "    const toggleableContent = element.closest('.sk-toggleable__content');\n",
                            "    const paramPrefix = toggleableContent ? toggleableContent.dataset.paramPrefix : '';\n",
                            "    const fullParamName = paramPrefix ? `${paramPrefix}${text}` : text;\n",
                            "\n",
                            "    const originalStyle = element.style;\n",
                            "    const computedStyle = window.getComputedStyle(element);\n",
                            "    const originalWidth = computedStyle.width;\n",
                            "    const originalHTML = element.innerHTML.replace('Copied!', '');\n",
                            "\n",
                            "    navigator.clipboard.writeText(fullParamName)\n",
                            "        .then(() => {\n",
                            "            element.style.width = originalWidth;\n",
                            "            element.style.color = 'green';\n",
                            "            element.innerHTML = \"Copied!\";\n",
                            "\n",
                            "            setTimeout(() => {\n",
                            "                element.innerHTML = originalHTML;\n",
                            "                element.style = originalStyle;\n",
                            "            }, 2000);\n",
                            "        })\n",
                            "        .catch(err => {\n",
                            "            console.error('Failed to copy:', err);\n",
                            "            element.style.color = 'red';\n",
                            "            element.innerHTML = \"Failed!\";\n",
                            "            setTimeout(() => {\n",
                            "                element.innerHTML = originalHTML;\n",
                            "                element.style = originalStyle;\n",
                            "            }, 2000);\n",
                            "        });\n",
                            "    return false;\n",
                            "}\n",
                            "\n",
                            "document.querySelectorAll('.fa-regular.fa-copy').forEach(function(element) {\n",
                            "    const toggleableContent = element.closest('.sk-toggleable__content');\n",
                            "    const paramPrefix = toggleableContent ? toggleableContent.dataset.paramPrefix : '';\n",
                            "    const paramName = element.parentElement.nextElementSibling.textContent.trim();\n",
                            "    const fullParamName = paramPrefix ? `${paramPrefix}${paramName}` : paramName;\n",
                            "\n",
                            "    element.setAttribute('title', fullParamName);\n",
                            "});\n",
                            "</script></body>"
                        ],
                        "text/plain": [
                            "Pipeline(steps=[('scaler', StandardScaler()), ('modelo', LinearRegression())])"
                        ]
                    },
                    "execution_count": 339,
                    "metadata": {},
                    "output_type": "execute_result"
                }
            ],
            "source": [
                "# 24. Entrenar el modelo de regresión lineal\n",
                "pipeline.fit(X_train, y_train)"
            ]
        },
        {
            "cell_type": "code",
            "execution_count": 340,
            "metadata": {},
            "outputs": [
                {
                    "name": "stdout",
                    "output_type": "stream",
                    "text": [
                        "R² en Train: 0.7496\n",
                        "R² en Test: 0.8295\n",
                        "MAE: 0.2607\n",
                        "MSE: 0.1583\n",
                        "RMSE: 0.3979\n"
                    ]
                }
            ],
            "source": [
                "# 25. Predicciones y métricas para regresión lineal\n",
                "y_pred_train = pipeline.predict(X_train)\n",
                "y_pred_test = pipeline.predict(X_test)\n",
                "r2_train = r2_score(y_train, y_pred_train)\n",
                "r2_test = r2_score(y_test, y_pred_test)\n",
                "mae_test = mean_absolute_error(y_test, y_pred_test)\n",
                "mse_test = mean_squared_error(y_test, y_pred_test)\n",
                "rmse_test = np.sqrt(mse_test)\n",
                "\n",
                "print(f\"R² en Train: {r2_train:.4f}\")\n",
                "print(f\"R² en Test: {r2_test:.4f}\")\n",
                "print(f\"MAE: {mae_test:.4f}\")\n",
                "print(f\"MSE: {mse_test:.4f}\")\n",
                "print(f\"RMSE: {rmse_test:.4f}\")"
            ]
        },
        {
            "cell_type": "code",
            "execution_count": 341,
            "metadata": {},
            "outputs": [
                {
                    "name": "stdout",
                    "output_type": "stream",
                    "text": [
                        "R² con Ridge: 0.8291\n"
                    ]
                }
            ],
            "source": [
                "# 26. Entrenamiento y evaluación de modelo Ridge\n",
                "ridge = Ridge(alpha=1.0, random_state=42)\n",
                "ridge.fit(X_train, y_train)\n",
                "r2_ridge = ridge.score(X_test, y_test)\n",
                "print(f\"R² con Ridge: {r2_ridge:.4f}\")"
            ]
        },
        {
            "cell_type": "code",
            "execution_count": 342,
            "metadata": {},
            "outputs": [
                {
                    "name": "stdout",
                    "output_type": "stream",
                    "text": [
                        "R² con Lasso: 0.7180\n"
                    ]
                }
            ],
            "source": [
                "# 27. Entrenamiento y evaluación de modelo Lasso\n",
                "lasso = Lasso(alpha=0.1, random_state=42)\n",
                "lasso.fit(X_train, y_train)\n",
                "r2_lasso = lasso.score(X_test, y_test)\n",
                "print(f\"R² con Lasso: {r2_lasso:.4f}\")"
            ]
        },
        {
            "cell_type": "markdown",
            "metadata": {},
            "source": [
                "Me llama la atención que el modelo lineal consigue un R² alto tanto en train como en test, lo que indica que no hay overfitting: el modelo no solo memoriza los datos de entrenamiento, sino que realmente aprende patrones útiles que generalizan bien a datos nuevos.  \n",
                "Al comparar con Ridge y Lasso, veo que los resultados son muy parecidos, lo que me confirma que mi dataset está bien preparado y que no hay problemas de multicolinealidad ni variables poco relevantes. Esto me da confianza en la calidad de mi análisis y en que el flujo de preprocesado y modelado es el adecuado."
            ]
        },
        {
            "cell_type": "markdown",
            "metadata": {},
            "source": [
                "# BLOQUE 6: Predicción para nuevo cliente y guardado de modelo"
            ]
        },
        {
            "cell_type": "code",
            "execution_count": 343,
            "metadata": {},
            "outputs": [
                {
                    "name": "stdout",
                    "output_type": "stream",
                    "text": [
                        "Predicción del coste del seguro (USD): 8432.83\n",
                        "Modelo Ridge guardado exitosamente.\n",
                        "Predicción verificada con modelo cargado: 8432.83 USD\n",
                        "\n",
                        "Importancia de cada variable en el coste del seguro (en escala logarítmica):\n",
                        "smoker              0.615219\n",
                        "age                 0.237842\n",
                        "age_zscore          0.237842\n",
                        "bmi                 0.079544\n",
                        "children_zscore     0.059212\n",
                        "children            0.059212\n",
                        "sex                 0.038382\n",
                        "region_northwest   -0.018827\n",
                        "region_southwest   -0.043720\n",
                        "region_southeast   -0.056990\n",
                        "dtype: float64\n"
                    ]
                }
            ],
            "source": [
                "# 28. Definir valores del nuevo cliente (ajusta según caso)\n",
                "nuevo_cliente_dict = {\n",
                "    \"age\": 40,\n",
                "    \"sex\": 1,  # female\n",
                "    \"bmi\": 25,\n",
                "    \"children\": 3,\n",
                "    \"smoker\": 0,  # no\n",
                "    \"age_zscore\": (40 - X_train['age'].mean()) / X_train['age'].std(),\n",
                "    \"children_zscore\": (3 - X_train['children'].mean()) / X_train['children'].std(),\n",
                "    \"region_northwest\": 0,\n",
                "    \"region_southeast\": 0,\n",
                "    \"region_southwest\": 0\n",
                "}\n",
                "\n",
                "# 29. Convertir a DataFrame con columnas en el mismo orden que X_train\n",
                "nuevo_cliente_df = pd.DataFrame([nuevo_cliente_dict])\n",
                "nuevo_cliente_df = nuevo_cliente_df.reindex(columns=X_train.columns, fill_value=0)\n",
                "\n",
                "# 30. Predicción del coste del seguro para nuevo cliente (usando Ridge)\n",
                "costo_estimado_log = ridge.predict(nuevo_cliente_df)\n",
                "costo_estimado = np.exp(costo_estimado_log)  # Volvemos a la escala original\n",
                "print(f\"Predicción del coste del seguro (USD): {costo_estimado[0]:.2f}\")\n",
                "\n",
                "# 31. Guardar el modelo entrenado\n",
                "joblib.dump(ridge, \"modelo_ridge.pkl\")\n",
                "print(\"Modelo Ridge guardado exitosamente.\")\n",
                "\n",
                "# 32. Cargar el modelo para comprobar y predecir de nuevo\n",
                "modelo_cargado = joblib.load(\"modelo_ridge.pkl\")\n",
                "prediccion_check = modelo_cargado.predict(nuevo_cliente_df)\n",
                "print(f\"Predicción verificada con modelo cargado: {np.exp(prediccion_check[0]):.2f} USD\")\n",
                "\n",
                "# 33. Interpretación de coeficientes del modelo lineal\n",
                "modelo_lineal = pipeline.named_steps['modelo']\n",
                "coeficientes = pd.Series(modelo_lineal.coef_, index=X_train.columns)\n",
                "print(\"\\nImportancia de cada variable en el coste del seguro (en escala logarítmica):\")\n",
                "print(coeficientes.sort_values(ascending=False))"
            ]
        },
        {
            "cell_type": "code",
            "execution_count": null,
            "metadata": {},
            "outputs": [],
            "source": []
        }
    ],
    "metadata": {
        "kernelspec": {
            "display_name": "Python 3",
            "language": "python",
            "name": "python3"
        },
        "language_info": {
            "codemirror_mode": {
                "name": "ipython",
                "version": 3
            },
            "file_extension": ".py",
            "mimetype": "text/x-python",
            "name": "python",
            "nbconvert_exporter": "python",
            "pygments_lexer": "ipython3",
            "version": "3.11.4"
        },
        "orig_nbformat": 4
    },
    "nbformat": 4,
    "nbformat_minor": 2
}
